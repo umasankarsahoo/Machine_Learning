{
 "cells": [
  {
   "cell_type": "code",
   "execution_count": 1,
   "metadata": {},
   "outputs": [],
   "source": [
    "import time\n",
    "start = time.time()\n",
    "\n",
    "import pandas as pd\n",
    "import nltk\n",
    "from matplotlib import pyplot as plt\n",
    "import seaborn as sns\n",
    "from numpy import median\n",
    "%matplotlib inline\n",
    "\n",
    "import seaborn as sns"
   ]
  },
  {
   "cell_type": "code",
   "execution_count": 2,
   "metadata": {},
   "outputs": [],
   "source": [
    "#Import the semi clean dataset.Exporting only the short description\n",
    "dtype_dic = {'DESCRIPTION': str,'Noun':str,'Modifier':str}\n",
    "txt_corpus = pd.read_csv('Test_Data.csv', dtype=dtype_dic,encoding = \"latin\")\n",
    "txt_corpus.drop_duplicates(subset=None, inplace=True)\n",
    "txt_corpus = txt_corpus.replace(r'\\r',' ', regex=True)\n",
    "# txt_corpus['DESCRIPTION'] = ' '.join(txt_corpus['DESCRIPTION'].split())\n",
    "txt_corpus.reset_index(drop=True, inplace=True)"
   ]
  },
  {
   "cell_type": "code",
   "execution_count": 3,
   "metadata": {},
   "outputs": [
    {
     "data": {
      "text/plain": [
       "(10, 1)"
      ]
     },
     "execution_count": 3,
     "metadata": {},
     "output_type": "execute_result"
    }
   ],
   "source": [
    "txt_corpus = txt_corpus.sample(frac=1)\n",
    "txt_corpus = txt_corpus.head(10000)\n",
    "txt_corpus.shape"
   ]
  },
  {
   "cell_type": "code",
   "execution_count": 4,
   "metadata": {},
   "outputs": [
    {
     "data": {
      "text/html": [
       "<div>\n",
       "<style scoped>\n",
       "    .dataframe tbody tr th:only-of-type {\n",
       "        vertical-align: middle;\n",
       "    }\n",
       "\n",
       "    .dataframe tbody tr th {\n",
       "        vertical-align: top;\n",
       "    }\n",
       "\n",
       "    .dataframe thead th {\n",
       "        text-align: right;\n",
       "    }\n",
       "</style>\n",
       "<table border=\"1\" class=\"dataframe\">\n",
       "  <thead>\n",
       "    <tr style=\"text-align: right;\">\n",
       "      <th></th>\n",
       "      <th>Long_Desc</th>\n",
       "    </tr>\n",
       "  </thead>\n",
       "  <tbody>\n",
       "    <tr>\n",
       "      <th>7</th>\n",
       "      <td>GASKET,SPIRAL WOUND,RWI-RJ,2\"\\nFILLER MATERIAL...</td>\n",
       "    </tr>\n",
       "    <tr>\n",
       "      <th>9</th>\n",
       "      <td>GASKET , SPIRAL WOUND   FILLER MATERIAL GRAPHI...</td>\n",
       "    </tr>\n",
       "    <tr>\n",
       "      <th>1</th>\n",
       "      <td>LSDP CONTROL\\nSPIRAL WOUND GASKET 24\"\"\"\" X 300...</td>\n",
       "    </tr>\n",
       "    <tr>\n",
       "      <th>2</th>\n",
       "      <td>MOTOR,22 KW,400-690 KW,DFV180L4/BM/HR/TH\\nNO G...</td>\n",
       "    </tr>\n",
       "    <tr>\n",
       "      <th>0</th>\n",
       "      <td>MOTOR,ELECTRIC,15HP,190/380V,1475,50HZ\\nINDUCT...</td>\n",
       "    </tr>\n",
       "  </tbody>\n",
       "</table>\n",
       "</div>"
      ],
      "text/plain": [
       "                                           Long_Desc\n",
       "7  GASKET,SPIRAL WOUND,RWI-RJ,2\"\\nFILLER MATERIAL...\n",
       "9  GASKET , SPIRAL WOUND   FILLER MATERIAL GRAPHI...\n",
       "1  LSDP CONTROL\\nSPIRAL WOUND GASKET 24\"\"\"\" X 300...\n",
       "2  MOTOR,22 KW,400-690 KW,DFV180L4/BM/HR/TH\\nNO G...\n",
       "0  MOTOR,ELECTRIC,15HP,190/380V,1475,50HZ\\nINDUCT..."
      ]
     },
     "execution_count": 4,
     "metadata": {},
     "output_type": "execute_result"
    }
   ],
   "source": [
    "txt_corpus.head()"
   ]
  },
  {
   "cell_type": "code",
   "execution_count": 5,
   "metadata": {},
   "outputs": [
    {
     "name": "stdout",
     "output_type": "stream",
     "text": [
      "0\n"
     ]
    },
    {
     "data": {
      "text/html": [
       "<div>\n",
       "<style scoped>\n",
       "    .dataframe tbody tr th:only-of-type {\n",
       "        vertical-align: middle;\n",
       "    }\n",
       "\n",
       "    .dataframe tbody tr th {\n",
       "        vertical-align: top;\n",
       "    }\n",
       "\n",
       "    .dataframe thead th {\n",
       "        text-align: right;\n",
       "    }\n",
       "</style>\n",
       "<table border=\"1\" class=\"dataframe\">\n",
       "  <thead>\n",
       "    <tr style=\"text-align: right;\">\n",
       "      <th></th>\n",
       "      <th>Unique_ID</th>\n",
       "      <th>DESCRIPTION</th>\n",
       "      <th>Word_Count</th>\n",
       "      <th>Char_Count</th>\n",
       "      <th>Avg_Word_len</th>\n",
       "      <th>stop_words</th>\n",
       "      <th>Special_Char</th>\n",
       "      <th>No_of_numerics</th>\n",
       "      <th>No_of_Uppercase_words</th>\n",
       "      <th>No_of_Lowercase_words</th>\n",
       "    </tr>\n",
       "  </thead>\n",
       "  <tbody>\n",
       "    <tr>\n",
       "      <th>0</th>\n",
       "      <td>0</td>\n",
       "      <td>MOTOR,ELECTRIC,15HP,190/380V,1475,50HZ\\nINDUCT...</td>\n",
       "      <td>27</td>\n",
       "      <td>158</td>\n",
       "      <td>6.550000</td>\n",
       "      <td>0</td>\n",
       "      <td>27</td>\n",
       "      <td>29</td>\n",
       "      <td>19</td>\n",
       "      <td>0</td>\n",
       "    </tr>\n",
       "    <tr>\n",
       "      <th>1</th>\n",
       "      <td>1</td>\n",
       "      <td>LSDP CONTROL\\nSPIRAL WOUND GASKET 24\"\"\"\" X 300...</td>\n",
       "      <td>52</td>\n",
       "      <td>263</td>\n",
       "      <td>4.340909</td>\n",
       "      <td>2</td>\n",
       "      <td>72</td>\n",
       "      <td>30</td>\n",
       "      <td>40</td>\n",
       "      <td>0</td>\n",
       "    </tr>\n",
       "    <tr>\n",
       "      <th>2</th>\n",
       "      <td>2</td>\n",
       "      <td>MOTOR,22 KW,400-690 KW,DFV180L4/BM/HR/TH\\nNO G...</td>\n",
       "      <td>26</td>\n",
       "      <td>118</td>\n",
       "      <td>5.866667</td>\n",
       "      <td>2</td>\n",
       "      <td>30</td>\n",
       "      <td>29</td>\n",
       "      <td>17</td>\n",
       "      <td>0</td>\n",
       "    </tr>\n",
       "    <tr>\n",
       "      <th>3</th>\n",
       "      <td>3</td>\n",
       "      <td>GASKET SPIRAL WOUND SIZE GRAPHITE FILLER MATER...</td>\n",
       "      <td>95</td>\n",
       "      <td>526</td>\n",
       "      <td>4.568182</td>\n",
       "      <td>10</td>\n",
       "      <td>124</td>\n",
       "      <td>29</td>\n",
       "      <td>78</td>\n",
       "      <td>1</td>\n",
       "    </tr>\n",
       "    <tr>\n",
       "      <th>4</th>\n",
       "      <td>4</td>\n",
       "      <td>MOTOR,7.5 KW,400/690 V D/Y,14.3/8.27A\\nMOTOR F...</td>\n",
       "      <td>34</td>\n",
       "      <td>151</td>\n",
       "      <td>5.850000</td>\n",
       "      <td>3</td>\n",
       "      <td>34</td>\n",
       "      <td>34</td>\n",
       "      <td>19</td>\n",
       "      <td>0</td>\n",
       "    </tr>\n",
       "  </tbody>\n",
       "</table>\n",
       "</div>"
      ],
      "text/plain": [
       "  Unique_ID                                        DESCRIPTION Word_Count  \\\n",
       "0         0  MOTOR,ELECTRIC,15HP,190/380V,1475,50HZ\\nINDUCT...         27   \n",
       "1         1  LSDP CONTROL\\nSPIRAL WOUND GASKET 24\"\"\"\" X 300...         52   \n",
       "2         2  MOTOR,22 KW,400-690 KW,DFV180L4/BM/HR/TH\\nNO G...         26   \n",
       "3         3  GASKET SPIRAL WOUND SIZE GRAPHITE FILLER MATER...         95   \n",
       "4         4  MOTOR,7.5 KW,400/690 V D/Y,14.3/8.27A\\nMOTOR F...         34   \n",
       "\n",
       "  Char_Count  Avg_Word_len stop_words Special_Char No_of_numerics  \\\n",
       "0        158      6.550000          0           27             29   \n",
       "1        263      4.340909          2           72             30   \n",
       "2        118      5.866667          2           30             29   \n",
       "3        526      4.568182         10          124             29   \n",
       "4        151      5.850000          3           34             34   \n",
       "\n",
       "  No_of_Uppercase_words No_of_Lowercase_words  \n",
       "0                    19                     0  \n",
       "1                    40                     0  \n",
       "2                    17                     0  \n",
       "3                    78                     1  \n",
       "4                    19                     0  "
      ]
     },
     "execution_count": 5,
     "metadata": {},
     "output_type": "execute_result"
    }
   ],
   "source": [
    "from nltk.tokenize import RegexpTokenizer\n",
    "from nltk.corpus import stopwords\n",
    "import string\n",
    "import re\n",
    "\n",
    "txt_corpus_new=[]\n",
    "tokenizer = RegexpTokenizer(r'\\w+')\n",
    "counter = txt_corpus.shape[0]\n",
    "txt_corpus_new = pd.DataFrame(columns=['Unique_ID','DESCRIPTION','Word_Count','Char_Count','Avg_Word_len','stop_words','Special_Char','No_of_numerics','No_of_Uppercase_words','No_of_Lowercase_words'])\n",
    "stop_words_list=[]\n",
    "\n",
    "for i in range(counter):\n",
    "    if ((i % 1000) == 0):\n",
    "        print(i)\n",
    "    word_tokens=[]\n",
    "    word_tokens = tokenizer.tokenize(txt_corpus.loc[i,'Long_Desc'])\n",
    "    word_cnt = len(word_tokens)\n",
    "    \n",
    "    words=[]\n",
    "    filtered = ''.join(filter(lambda x: x not in '''!.,;!-()-[]{};:'\"\\,<>./?@#$%^&*_~''', txt_corpus.loc[i,'Long_Desc']))\n",
    "    words = [word for word in filtered.split() if word]\n",
    "    avg = sum(map(len, words))/len(words)\n",
    "    \n",
    "    stop_words = set(stopwords.words('english'))\n",
    "    stop_words_upper=[]\n",
    "    stop_words_list=[]\n",
    "    [stop_words_upper.append(i.upper()) if not i.isupper() else stop_words_upper.append(i) for i in stop_words]\n",
    "    stop_words_list = [w for w in word_tokens if w in stop_words_upper] \n",
    "    n_stop_words = len(stop_words_list)\n",
    "    \n",
    "    special_char=0\n",
    "    special_char = len(re.sub('[\\w]+' ,'', txt_corpus.loc[i,'Long_Desc']))\n",
    "    \n",
    "    isdigit = 0\n",
    "    isdigit = sum(c.isdigit() for c in txt_corpus.loc[i,'Long_Desc'])\n",
    "    \n",
    "    uppercase_words = sum(map(str.isupper, word_tokens))\n",
    "    lowercase_words = sum(map(str.islower, word_tokens))\n",
    "\n",
    "    txt_corpus_new = txt_corpus_new.append({'Unique_ID':i,'DESCRIPTION': txt_corpus.loc[i,'Long_Desc'],'Word_Count':word_cnt ,'Char_Count': len(txt_corpus.loc[i,'Long_Desc']),'Avg_Word_len': avg,'stop_words': n_stop_words,'Special_Char': special_char,'No_of_numerics': isdigit,'No_of_Uppercase_words': uppercase_words,'No_of_Lowercase_words': lowercase_words}, ignore_index=True)\n",
    "\n",
    "txt_corpus_new.head()\n"
   ]
  },
  {
   "cell_type": "markdown",
   "metadata": {},
   "source": [
    "Plotting descriptive statistics (Double Click for better view of the graphs)\n",
    "============================================================================"
   ]
  },
  {
   "cell_type": "code",
   "execution_count": 6,
   "metadata": {},
   "outputs": [
    {
     "data": {
      "image/png": "[encoded data removed]",
      "text/plain": [
       "<matplotlib.figure.Figure at 0x162f7512780>"
      ]
     },
     "metadata": {},
     "output_type": "display_data"
    }
   ],
   "source": [
    "plt.rcParams['figure.figsize'] = (12, 7)\n",
    "plt.style.use('ggplot')\n",
    "sns.set(style=\"whitegrid\")\n",
    "ax = sns.barplot(x=\"Word_Count\", y=\"Unique_ID\", data=txt_corpus_new)"
   ]
  },
  {
   "cell_type": "code",
   "execution_count": 7,
   "metadata": {},
   "outputs": [
    {
     "data": {
      "image/png": "[encoded data removed]",
      "text/plain": [
       "<matplotlib.figure.Figure at 0x162f768c5c0>"
      ]
     },
     "metadata": {},
     "output_type": "display_data"
    }
   ],
   "source": [
    "plt.rcParams['figure.figsize'] = (12, 7)\n",
    "plt.style.use('ggplot')\n",
    "sns.set(style=\"whitegrid\")\n",
    "ax = sns.barplot(x=\"Char_Count\", y=\"Unique_ID\", data=txt_corpus_new)\n"
   ]
  },
  {
   "cell_type": "code",
   "execution_count": 8,
   "metadata": {},
   "outputs": [
    {
     "data": {
      "image/png": "[encoded data removed]",
      "text/plain": [
       "<matplotlib.figure.Figure at 0x162f7ac8b00>"
      ]
     },
     "metadata": {},
     "output_type": "display_data"
    }
   ],
   "source": [
    "plt.rcParams['figure.figsize'] = (12, 7)\n",
    "plt.style.use('ggplot')\n",
    "sns.set(style=\"whitegrid\")\n",
    "ax = sns.barplot(x=\"Avg_Word_len\", y=\"Unique_ID\", data=txt_corpus_new)\n"
   ]
  },
  {
   "cell_type": "code",
   "execution_count": 9,
   "metadata": {},
   "outputs": [
    {
     "data": {
      "image/png": "[encoded data removed]",
      "text/plain": [
       "<matplotlib.figure.Figure at 0x162f768cc18>"
      ]
     },
     "metadata": {},
     "output_type": "display_data"
    }
   ],
   "source": [
    "plt.rcParams['figure.figsize'] = (12, 7)\n",
    "plt.style.use('ggplot')\n",
    "sns.set(style=\"whitegrid\")\n",
    "ax = sns.barplot(x=\"stop_words\", y=\"Unique_ID\", data=txt_corpus_new)\n"
   ]
  },
  {
   "cell_type": "code",
   "execution_count": 10,
   "metadata": {},
   "outputs": [
    {
     "data": {
      "image/png": "[encoded data removed]",
      "text/plain": [
       "<matplotlib.figure.Figure at 0x162f79bd4e0>"
      ]
     },
     "metadata": {},
     "output_type": "display_data"
    }
   ],
   "source": [
    "plt.rcParams['figure.figsize'] = (12, 7)\n",
    "plt.style.use('ggplot')\n",
    "sns.set(style=\"whitegrid\")\n",
    "ax = sns.barplot(x=\"Special_Char\", y=\"Unique_ID\", data=txt_corpus_new)"
   ]
  },
  {
   "cell_type": "code",
   "execution_count": 11,
   "metadata": {},
   "outputs": [
    {
     "data": {
      "image/png": "[encoded data removed]",
      "text/plain": [
       "<matplotlib.figure.Figure at 0x162f7b6e358>"
      ]
     },
     "metadata": {},
     "output_type": "display_data"
    }
   ],
   "source": [
    "plt.rcParams['figure.figsize'] = (12, 7)\n",
    "plt.style.use('ggplot')\n",
    "sns.set(style=\"whitegrid\")\n",
    "ax = sns.barplot(x=\"No_of_numerics\", y=\"Unique_ID\", data=txt_corpus_new)\n"
   ]
  },
  {
   "cell_type": "code",
   "execution_count": 12,
   "metadata": {},
   "outputs": [
    {
     "data": {
      "image/png": "[encoded data removed]",
      "text/plain": [
       "<matplotlib.figure.Figure at 0x162f7bb87f0>"
      ]
     },
     "metadata": {},
     "output_type": "display_data"
    }
   ],
   "source": [
    "plt.rcParams['figure.figsize'] = (12, 7)\n",
    "plt.style.use('ggplot')\n",
    "sns.set(style=\"whitegrid\")\n",
    "ax = sns.barplot(x=\"No_of_Uppercase_words\", y=\"Unique_ID\", data=txt_corpus_new)\n"
   ]
  },
  {
   "cell_type": "code",
   "execution_count": 13,
   "metadata": {},
   "outputs": [
    {
     "data": {
      "image/png": "[encoded data removed]",
      "text/plain": [
       "<matplotlib.figure.Figure at 0x162f7ba6fd0>"
      ]
     },
     "metadata": {},
     "output_type": "display_data"
    }
   ],
   "source": [
    "plt.rcParams['figure.figsize'] = (12, 7)\n",
    "plt.style.use('ggplot')\n",
    "sns.set(style=\"whitegrid\")\n",
    "ax = sns.barplot(x=\"No_of_Lowercase_words\", y=\"Unique_ID\", data=txt_corpus_new)\n"
   ]
  },
  {
   "cell_type": "code",
   "execution_count": 14,
   "metadata": {},
   "outputs": [
    {
     "name": "stdout",
     "output_type": "stream",
     "text": [
      "0.0 : 0.0 : 11.193504333496094\n"
     ]
    }
   ],
   "source": [
    "end = time.time()\n",
    "temp = end-start\n",
    "hours = temp//3600\n",
    "temp = temp - 3600*hours\n",
    "minutes = temp//60\n",
    "seconds = temp - 60*minutes\n",
    "print(hours,':',minutes,':',seconds)"
   ]
  },
  {
   "cell_type": "code",
   "execution_count": 15,
   "metadata": {},
   "outputs": [],
   "source": [
    "#df_class = pd.read_csv('output_of_taxonomy_22oct.xlsx',sep='\\t')\n",
    "# dq_df = pd.concat([txt_corpus,txt_corpus_new,df_class],axis=1)\n",
    "# dq_df.to_csv('dq_df.csv')\n",
    "\n",
    "xl_file = pd.ExcelFile('output_of_taxonomy_22oct.xlsx')\n",
    "dfs = {sheet_name: xl_file.parse(sheet_name) for sheet_name in xl_file.sheet_names}"
   ]
  },
  {
   "cell_type": "code",
   "execution_count": 16,
   "metadata": {},
   "outputs": [
    {
     "name": "stdout",
     "output_type": "stream",
     "text": [
      "10\n"
     ]
    }
   ],
   "source": [
    "#for i in range(dq_df1.shape[0]):\n",
    "dq_df1 = dfs['GASKET_SPIRAL_WOUND']\n",
    "total_columns=len(dq_df1.iloc[:,7:].columns)\n",
    "print(total_columns)\n",
    "dq_df1['Completeness_%'] = dq_df1.iloc[:,7:].isnull().sum(axis=1)\n",
    "dq_df1['Completeness_%']= (dq_df1['Completeness_%'] / total_columns) * 100"
   ]
  },
  {
   "cell_type": "code",
   "execution_count": 17,
   "metadata": {},
   "outputs": [
    {
     "data": {
      "text/html": [
       "<div>\n",
       "<style scoped>\n",
       "    .dataframe tbody tr th:only-of-type {\n",
       "        vertical-align: middle;\n",
       "    }\n",
       "\n",
       "    .dataframe tbody tr th {\n",
       "        vertical-align: top;\n",
       "    }\n",
       "\n",
       "    .dataframe thead th {\n",
       "        text-align: right;\n",
       "    }\n",
       "</style>\n",
       "<table border=\"1\" class=\"dataframe\">\n",
       "  <thead>\n",
       "    <tr style=\"text-align: right;\">\n",
       "      <th></th>\n",
       "      <th>PROD_ID</th>\n",
       "      <th>MATERIAL_DESC</th>\n",
       "      <th>NOUN</th>\n",
       "      <th>MODIFIER</th>\n",
       "      <th>LONG_DESCRIPTION</th>\n",
       "      <th>SHORT_DESCRIPTION</th>\n",
       "      <th>EXCEPTION</th>\n",
       "      <th>FILLER MATERIAL</th>\n",
       "      <th>INNER RING MATERIAL</th>\n",
       "      <th>NA</th>\n",
       "      <th>OUTER RING MATERIAL</th>\n",
       "      <th>PIPE SIZE</th>\n",
       "      <th>PRESSURE RATING</th>\n",
       "      <th>SIZE</th>\n",
       "      <th>STYLE</th>\n",
       "      <th>THICKNESS</th>\n",
       "      <th>WINDING MATERIAL</th>\n",
       "      <th>Completeness_%</th>\n",
       "    </tr>\n",
       "  </thead>\n",
       "  <tbody>\n",
       "    <tr>\n",
       "      <th>0</th>\n",
       "      <td>1001</td>\n",
       "      <td>LSDP CONTROL\\nSPIRAL WOUND GASKET 24\"\"\"\" X 300...</td>\n",
       "      <td>GASKET</td>\n",
       "      <td>SPIRAL WOUND</td>\n",
       "      <td>*** GASKET , SPIRAL WOUND *** \\n\\nFILLER MATER...</td>\n",
       "      <td>GASKET , SPL WND: CERAMIC,SS,23,3/4\"\",3/4\"\",SS</td>\n",
       "      <td>LSDP CONTROL 24 X 300 # RF X 4.5THK . 316L SWG...</td>\n",
       "      <td>CERAMIC</td>\n",
       "      <td>SS</td>\n",
       "      <td>NaN</td>\n",
       "      <td>23</td>\n",
       "      <td>3/4\"\"</td>\n",
       "      <td>NaN</td>\n",
       "      <td>3/4\"\"</td>\n",
       "      <td>NaN</td>\n",
       "      <td>NaN</td>\n",
       "      <td>SS</td>\n",
       "      <td>40.0</td>\n",
       "    </tr>\n",
       "    <tr>\n",
       "      <th>1</th>\n",
       "      <td>1003</td>\n",
       "      <td>GASKET SPIRAL WOUND SIZE GRAPHITE FILLER MATER...</td>\n",
       "      <td>GASKET</td>\n",
       "      <td>SPIRAL WOUND</td>\n",
       "      <td>*** GASKET , SPIRAL WOUND *** \\n\\nFILLER MATER...</td>\n",
       "      <td>GASKET , SPL WND: INNER,MONEL,STEEL,10\"\"\"\",150...</td>\n",
       "      <td>LB 10-3/8 ID X 15 OD CG FURON RW LAMONS WR C N...</td>\n",
       "      <td>INNER</td>\n",
       "      <td>MONEL</td>\n",
       "      <td>NaN</td>\n",
       "      <td>STEEL</td>\n",
       "      <td>10\"\"\"\"</td>\n",
       "      <td>1500</td>\n",
       "      <td>GRAPHITE</td>\n",
       "      <td>FLEXITALLIC</td>\n",
       "      <td>1/16\"\"\"\"</td>\n",
       "      <td>HASTELLOY</td>\n",
       "      <td>10.0</td>\n",
       "    </tr>\n",
       "    <tr>\n",
       "      <th>2</th>\n",
       "      <td>1005</td>\n",
       "      <td>LSDP CONTROL\\nSPIRAL WOUND GASKET 8\"\"\"\" X 150#...</td>\n",
       "      <td>GASKET</td>\n",
       "      <td>SPIRAL WOUND</td>\n",
       "      <td>*** GASKET , SPIRAL WOUND *** \\n\\nFILLER MATER...</td>\n",
       "      <td>GASKET , SPL WND: GRAPHITE,SS,MATERIAL,150,LAM...</td>\n",
       "      <td>LSDP CONTROL 8 X # RF X 4.5THK . 316L S.W.G FI...</td>\n",
       "      <td>GRAPHITE</td>\n",
       "      <td>SS</td>\n",
       "      <td>NaN</td>\n",
       "      <td>MATERIAL</td>\n",
       "      <td>NaN</td>\n",
       "      <td>150</td>\n",
       "      <td>NaN</td>\n",
       "      <td>LAMONS MW</td>\n",
       "      <td>1/8\"\"</td>\n",
       "      <td>SS</td>\n",
       "      <td>30.0</td>\n",
       "    </tr>\n",
       "    <tr>\n",
       "      <th>3</th>\n",
       "      <td>1007</td>\n",
       "      <td>GASKET,SPIRAL WOUND,RWI-RJ,2\"\\nFILLER MATERIAL...</td>\n",
       "      <td>GASKET</td>\n",
       "      <td>SPIRAL WOUND</td>\n",
       "      <td>*** GASKET , SPIRAL WOUND *** \\n\\nFILLER MATER...</td>\n",
       "      <td>GASKET , SPL WND: PTFE,SS304,STEEL,2\"\"\"\"\"\"\"\",RWI</td>\n",
       "      <td>RWI-RJ FOR REPLACEMENT OF JOINT TYPE RWI-RJ RA...</td>\n",
       "      <td>PTFE</td>\n",
       "      <td>SS304</td>\n",
       "      <td>NaN</td>\n",
       "      <td>STEEL</td>\n",
       "      <td>NaN</td>\n",
       "      <td>NaN</td>\n",
       "      <td>2\"\"\"\"\"\"\"\"</td>\n",
       "      <td>RWI</td>\n",
       "      <td>NaN</td>\n",
       "      <td>NaN</td>\n",
       "      <td>50.0</td>\n",
       "    </tr>\n",
       "    <tr>\n",
       "      <th>4</th>\n",
       "      <td>1009</td>\n",
       "      <td>GASKET , SPIRAL WOUND   FILLER MATERIAL GRAPHI...</td>\n",
       "      <td>GASKET</td>\n",
       "      <td>SPIRAL WOUND</td>\n",
       "      <td>*** GASKET , SPIRAL WOUND *** \\n\\nFILLER MATER...</td>\n",
       "      <td>GASKET , SPL WND: GRAPHITE,3/4,300 LB,7,FLEXIT...</td>\n",
       "      <td>7-1/2 ID X 8-1/2 OD CG 600 GASKETS FOR FLANGE ...</td>\n",
       "      <td>GRAPHITE</td>\n",
       "      <td>NaN</td>\n",
       "      <td>NaN</td>\n",
       "      <td>NaN</td>\n",
       "      <td>3/4</td>\n",
       "      <td>300 LB</td>\n",
       "      <td>7</td>\n",
       "      <td>FLEXITALLIC</td>\n",
       "      <td>1/16\"\"</td>\n",
       "      <td>INCONEL</td>\n",
       "      <td>30.0</td>\n",
       "    </tr>\n",
       "  </tbody>\n",
       "</table>\n",
       "</div>"
      ],
      "text/plain": [
       "   PROD_ID                                      MATERIAL_DESC    NOUN  \\\n",
       "0     1001  LSDP CONTROL\\nSPIRAL WOUND GASKET 24\"\"\"\" X 300...  GASKET   \n",
       "1     1003  GASKET SPIRAL WOUND SIZE GRAPHITE FILLER MATER...  GASKET   \n",
       "2     1005  LSDP CONTROL\\nSPIRAL WOUND GASKET 8\"\"\"\" X 150#...  GASKET   \n",
       "3     1007  GASKET,SPIRAL WOUND,RWI-RJ,2\"\\nFILLER MATERIAL...  GASKET   \n",
       "4     1009  GASKET , SPIRAL WOUND   FILLER MATERIAL GRAPHI...  GASKET   \n",
       "\n",
       "       MODIFIER                                   LONG_DESCRIPTION  \\\n",
       "0  SPIRAL WOUND  *** GASKET , SPIRAL WOUND *** \\n\\nFILLER MATER...   \n",
       "1  SPIRAL WOUND  *** GASKET , SPIRAL WOUND *** \\n\\nFILLER MATER...   \n",
       "2  SPIRAL WOUND  *** GASKET , SPIRAL WOUND *** \\n\\nFILLER MATER...   \n",
       "3  SPIRAL WOUND  *** GASKET , SPIRAL WOUND *** \\n\\nFILLER MATER...   \n",
       "4  SPIRAL WOUND  *** GASKET , SPIRAL WOUND *** \\n\\nFILLER MATER...   \n",
       "\n",
       "                                   SHORT_DESCRIPTION  \\\n",
       "0     GASKET , SPL WND: CERAMIC,SS,23,3/4\"\",3/4\"\",SS   \n",
       "1  GASKET , SPL WND: INNER,MONEL,STEEL,10\"\"\"\",150...   \n",
       "2  GASKET , SPL WND: GRAPHITE,SS,MATERIAL,150,LAM...   \n",
       "3   GASKET , SPL WND: PTFE,SS304,STEEL,2\"\"\"\"\"\"\"\",RWI   \n",
       "4  GASKET , SPL WND: GRAPHITE,3/4,300 LB,7,FLEXIT...   \n",
       "\n",
       "                                           EXCEPTION FILLER MATERIAL  \\\n",
       "0  LSDP CONTROL 24 X 300 # RF X 4.5THK . 316L SWG...         CERAMIC   \n",
       "1  LB 10-3/8 ID X 15 OD CG FURON RW LAMONS WR C N...           INNER   \n",
       "2  LSDP CONTROL 8 X # RF X 4.5THK . 316L S.W.G FI...        GRAPHITE   \n",
       "3  RWI-RJ FOR REPLACEMENT OF JOINT TYPE RWI-RJ RA...            PTFE   \n",
       "4  7-1/2 ID X 8-1/2 OD CG 600 GASKETS FOR FLANGE ...        GRAPHITE   \n",
       "\n",
       "  INNER RING MATERIAL  NA OUTER RING MATERIAL PIPE SIZE PRESSURE RATING  \\\n",
       "0                  SS NaN                  23     3/4\"\"             NaN   \n",
       "1               MONEL NaN               STEEL    10\"\"\"\"            1500   \n",
       "2                  SS NaN            MATERIAL       NaN             150   \n",
       "3               SS304 NaN               STEEL       NaN             NaN   \n",
       "4                 NaN NaN                 NaN       3/4          300 LB   \n",
       "\n",
       "        SIZE        STYLE THICKNESS WINDING MATERIAL  Completeness_%  \n",
       "0      3/4\"\"          NaN       NaN               SS            40.0  \n",
       "1   GRAPHITE  FLEXITALLIC  1/16\"\"\"\"        HASTELLOY            10.0  \n",
       "2        NaN    LAMONS MW     1/8\"\"               SS            30.0  \n",
       "3  2\"\"\"\"\"\"\"\"          RWI       NaN              NaN            50.0  \n",
       "4          7  FLEXITALLIC    1/16\"\"          INCONEL            30.0  "
      ]
     },
     "execution_count": 17,
     "metadata": {},
     "output_type": "execute_result"
    }
   ],
   "source": [
    "dq_df1"
   ]
  },
  {
   "cell_type": "code",
   "execution_count": null,
   "metadata": {},
   "outputs": [],
   "source": []
  },
  {
   "cell_type": "code",
   "execution_count": null,
   "metadata": {},
   "outputs": [],
   "source": []
  },
  {
   "cell_type": "code",
   "execution_count": null,
   "metadata": {},
   "outputs": [],
   "source": []
  },
  {
   "cell_type": "code",
   "execution_count": null,
   "metadata": {},
   "outputs": [],
   "source": []
  },
  {
   "cell_type": "code",
   "execution_count": null,
   "metadata": {},
   "outputs": [],
   "source": []
  }
 ],
 "metadata": {
  "kernelspec": {
   "display_name": "Python 3",
   "language": "python",
   "name": "python3"
  },
  "language_info": {
   "codemirror_mode": {
    "name": "ipython",
    "version": 3
   },
   "file_extension": ".py",
   "mimetype": "text/x-python",
   "name": "python",
   "nbconvert_exporter": "python",
   "pygments_lexer": "ipython3",
   "version": "3.6.6"
  }
 },
 "nbformat": 4,
 "nbformat_minor": 2
}
